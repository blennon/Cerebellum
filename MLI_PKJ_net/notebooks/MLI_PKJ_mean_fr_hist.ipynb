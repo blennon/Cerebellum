{
 "metadata": {
  "name": ""
 },
 "nbformat": 3,
 "nbformat_minor": 0,
 "worksheets": [
  {
   "cells": [
    {
     "cell_type": "markdown",
     "metadata": {},
     "source": [
      "<h2>MLI-PKJ network firing rates across multiple trials</h2>"
     ]
    },
    {
     "cell_type": "markdown",
     "metadata": {},
     "source": [
      "The goal of this experiment is to randomly construct the MLI-PKJ network several times and calculate the mean firing rates of MLIs and PKJs of all neurons in all randomly created networks to plot a histogram of firing rates."
     ]
    },
    {
     "cell_type": "code",
     "collapsed": true,
     "input": [
      "%load_ext autoreload\n",
      "%autoreload 2\n",
      "import datetime\n",
      "import os\n",
      "import gc\n",
      "from brian import *\n",
      "import sys\n",
      "sys.path.append('../../')\n",
      "from neuron_models import *\n",
      "import cPickle\n",
      "from itertools import repeat\n",
      "import multiprocessing\n",
      "import time\n",
      "set_global_preferences(useweave=True, usenewpropagate=True, usecodegen=True, usecodegenweave=True)\n",
      "defaultclock.dt = .25*ms"
     ],
     "language": "python",
     "metadata": {},
     "outputs": [
      {
       "output_type": "stream",
       "stream": "stderr",
       "text": [
        "/home/bill/anaconda/lib/python2.7/site-packages/brian/utils/sparse_patch/__init__.py:39: UserWarning: Couldn't find matching sparse matrix patch for scipy version 0.13.0, but in most cases this shouldn't be a problem.\n",
        "  warnings.warn(\"Couldn't find matching sparse matrix patch for scipy version %s, but in most cases this shouldn't be a problem.\" % scipy.__version__)\n"
       ]
      }
     ],
     "prompt_number": 1
    },
    {
     "cell_type": "code",
     "collapsed": false,
     "input": [
      "def run_net(T):\n",
      "    seed(int(os.getpid()*time.time()))\n",
      "    reinit()\n",
      "    reinit_default_clock()\n",
      "    clear(True)\n",
      "    gc.collect()\n",
      "    \n",
      "    N_MLI = 160\n",
      "    N_PKJ = 16\n",
      "    MLI = MLIGroup(N_MLI)\n",
      "    PKJ = PurkinjeCellGroup(N_PKJ)\n",
      "    \n",
      "    # synaptic weights\n",
      "    w_mli_pkj = 1.25\n",
      "    w_mli_mli = 1.\n",
      "    w_pkj_mli = 1.\n",
      "    \n",
      "    # Synapses\n",
      "    S_MLI_PKJ = Synapses(MLI,PKJ,model='w:1',pre='g_inh+=PKJ.g_inh_*w')\n",
      "    S_MLI_MLI = Synapses(MLI,MLI,model='w:1',pre='g_inh+=MLI.g_inh_*w')\n",
      "    S_PKJ_MLI = Synapses(PKJ,MLI,model='w:1',pre='g_inh+=MLI.g_inh_*w')\n",
      "\n",
      "    connect_mli_pkj(S_MLI_PKJ,pkj_dist=8,syn_prob=.25)\n",
      "    connect_mli_mli(S_MLI_MLI,dist=80,syn_prob=.05)\n",
      "    S_PKJ_MLI[:,:] = '((j/(N_MLI/N_PKJ)-i)%N_PKJ <= 2) & ((j/(N_MLI/N_PKJ)-i)%N_PKJ > 0) & (j%(N_MLI/N_PKJ)<3) & (rand()<.5)'\n",
      "    S_MLI_PKJ.w[:,:] = 'rand()*w_mli_pkj'\n",
      "    S_MLI_MLI.w[:,:] = 'rand()*w_mli_mli'\n",
      "    S_PKJ_MLI.w[:,:] = 'rand()*w_pkj_mli'\n",
      "    \n",
      "    @network_operation(Clock(dt=defaultclock.dt))\n",
      "    def random_current():\n",
      "        MLI.I = gamma(3.966333,0.006653,size=len(MLI)) * nA\n",
      "        PKJ.I = gamma(0.430303,0.195962,size=len(PKJ)) * nA\n",
      "        \n",
      "    MS_MLI = SpikeMonitor(MLI)\n",
      "    MS_PKJ = SpikeMonitor(PKJ)\n",
      "    \n",
      "    run(T)\n",
      "    \n",
      "    return MS_MLI.spiketimes, MS_PKJ.spiketimes"
     ],
     "language": "python",
     "metadata": {},
     "outputs": [],
     "prompt_number": 2
    },
    {
     "cell_type": "code",
     "collapsed": false,
     "input": [
      "pool = multiprocessing.Pool()\n",
      "results = pool.map(run_net, repeat(30*second,20))"
     ],
     "language": "python",
     "metadata": {},
     "outputs": [
      {
       "output_type": "stream",
       "stream": "stderr",
       "text": [
        "brian.stateupdater: WARNING  Using codegen CStateUpdater\n",
        "brian.stateupdater: WARNING  Using codegen CStateUpdater\n",
        "brian.stateupdater: WARNING  Using codegen CStateUpdater\n",
        "brian.stateupdater: WARNING  Using codegen CStateUpdater\n",
        "brian.stateupdater: WARNING  Using codegen CStateUpdater\n",
        "brian.stateupdater: WARNING  Using codegen CStateUpdater\n",
        "brian.stateupdater: WARNING  Using codegen CStateUpdater\n",
        "brian.stateupdater: WARNING  Using codegen CStateUpdater\n",
        "brian.stateupdater: WARNING  Using codegen CStateUpdater\n",
        "brian.stateupdater: WARNING  Using codegen CStateUpdater\n",
        "brian.stateupdater: WARNING  Using codegen CStateUpdater\n",
        "brian.stateupdater: WARNING  Using codegen CStateUpdater\n",
        "brian.stateupdater: WARNING  Using codegen CStateUpdater\n",
        "brian.stateupdater: WARNING  Using codegen CStateUpdater\n",
        "brian.stateupdater: WARNING  Using codegen CStateUpdater\n",
        "brian.stateupdater: WARNING  Using codegen CStateUpdater\n",
        "brian.stateupdater: WARNING  Using codegen CStateUpdater\n",
        "brian.stateupdater: WARNING  Using codegen CStateUpdater\n",
        "brian.stateupdater: WARNING  Using codegen CStateUpdater\n",
        "brian.stateupdater: WARNING  Using codegen CStateUpdater\n",
        "brian.stateupdater: WARNING  Using codegen CStateUpdater\n",
        "brian.stateupdater: WARNING  Using codegen CStateUpdater\n",
        "brian.stateupdater: WARNING  Using codegen CStateUpdater\n",
        "brian.stateupdater: WARNING  Using codegen CStateUpdater\n",
        "brian.stateupdater: WARNING  Using codegen CStateUpdater\n",
        "brian.stateupdater: WARNING  Using codegen CStateUpdater\n",
        "brian.stateupdater: WARNING  Using codegen CStateUpdater\n",
        "brian.stateupdater: WARNING  Using codegen CStateUpdater\n",
        "brian.stateupdater: WARNING  Using codegen CStateUpdater\n",
        "brian.stateupdater: WARNING  Using codegen CStateUpdater\n",
        "brian.stateupdater: WARNING  Using codegen CStateUpdater\n",
        "brian.stateupdater: WARNING  Using codegen CStateUpdater\n",
        "brian.stateupdater: WARNING  Using codegen CStateUpdater\n",
        "brian.stateupdater: WARNING  Using codegen CStateUpdater\n",
        "brian.stateupdater: WARNING  Using codegen CStateUpdater\n",
        "brian.stateupdater: WARNING  Using codegen CStateUpdater\n",
        "brian.stateupdater: WARNING  Using codegen CStateUpdater\n",
        "brian.stateupdater: WARNING  Using codegen CStateUpdater\n",
        "brian.stateupdater: WARNING  Using codegen CStateUpdater\n",
        "brian.stateupdater: WARNING  Using codegen CStateUpdater\n"
       ]
      }
     ],
     "prompt_number": 3
    },
    {
     "cell_type": "code",
     "collapsed": false,
     "input": [
      "MLI_spiketimes, PKJ_spiketimes = [], []\n",
      "for mli_spikes, pkj_spikes in results:\n",
      "    for ind, spiketimes in mli_spikes.iteritems():\n",
      "        MLI_spiketimes.append(spiketimes)\n",
      "    for ind, spiketimes in pkj_spikes.iteritems():\n",
      "        PKJ_spiketimes.append(spiketimes)"
     ],
     "language": "python",
     "metadata": {},
     "outputs": [],
     "prompt_number": 4
    },
    {
     "cell_type": "code",
     "collapsed": false,
     "input": [
      "# plot histogram\n",
      "fig = figure(figsize=(16,4), dpi=600)\n",
      "ax = fig.add_subplot(121)\n",
      "ax.hist(nan_to_num([mean(diff(spikes))**-1 for spikes in MLI_spiketimes]),15,color='#8C2318', edgecolor='w')\n",
      "simpleaxis(ax)\n",
      "tick_params(labelsize=20)\n",
      "xlabel('Mean firing rate (Hz)', fontsize=20)\n",
      "ylabel('Number of cells', fontsize=20, labelpad=10)\n",
      "#title('MLI mean firing rates', fontsize=20)\n",
      "\n",
      "ax = fig.add_subplot(122)\n",
      "counts, bins, _ = ax.hist(nan_to_num([mean(diff(spikes))**-1 for spikes in PKJ_spiketimes]),15,color='#0B486B',edgecolor='w')\n",
      "simpleaxis(ax)\n",
      "tick_params(labelsize=20)\n",
      "xlabel('Mean firing rate (Hz)', fontsize=20)\n",
      "ylabel('Number of cells', fontsize=20, labelpad=10)\n",
      "#title('PKJ mean firing rates', fontsize=20)\n",
      "#yticks(range(int(counts.max()+1)))\n",
      "\n",
      "fig.subplots_adjust(wspace=.3)"
     ],
     "language": "python",
     "metadata": {},
     "outputs": [
      {
       "output_type": "stream",
       "stream": "stderr",
       "text": [
        "/home/bill/anaconda/lib/python2.7/site-packages/numpy/core/_methods.py:57: RuntimeWarning: invalid value encountered in double_scalars\n",
        "  ret = ret / float(rcount)\n"
       ]
      },
      {
       "metadata": {},
       "output_type": "display_data",
       "png": "[encoded data removed]",
       "text": [
        "<matplotlib.figure.Figure at 0x58c2d50>"
       ]
      }
     ],
     "prompt_number": 5
    },
    {
     "cell_type": "code",
     "collapsed": false,
     "input": [],
     "language": "python",
     "metadata": {},
     "outputs": []
    }
   ],
   "metadata": {}
  }
 ]
}